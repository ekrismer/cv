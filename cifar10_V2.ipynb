{
 "cells": [
  {
   "cell_type": "code",
   "execution_count": 1,
   "metadata": {},
   "outputs": [],
   "source": [
    "%matplotlib inline\n",
    "import torch\n",
    "import torch.nn as nn\n",
    "import torch.nn.functional as F\n",
    "import torch.optim as optim\n",
    "import torchvision\n",
    "import torchvision.transforms as transforms\n",
    "import matplotlib.pyplot as plt\n",
    "import numpy as np\n",
    "import time\n",
    "from enum import Enum\n",
    "import sys"
   ]
  },
  {
   "cell_type": "markdown",
   "metadata": {},
   "source": [
    "\n",
    "## Used Dataset\n",
    "\n",
    "We used the dataset CIFAR10 for training and testing our neural networks. The dataset consists of a total of 60000 colour images, which are split into 50000 training images and 10000 test images. Each image has a resolution of 32x32 pixel. \n",
    "\n",
    "The CIFAR-10 dataset consists of 60000 32x32 colour images in 10 classes, with 6000 images per class. There are 50000 training images and 10000 test images.  \n",
    "The Training set is further split into 5 Batches à 10000 images. Each training batch can have a different amount of pictures from the ten classes, whereas the test-set contains exactly 1000 pictures of each class.\n",
    "Following Classes are available:  \n",
    "    * airplane\n",
    "    * automobile\n",
    "    * bird\n",
    "    * cat\n",
    "    * deer\n",
    "    * dog\n",
    "    * frog\n",
    "    * horse\n",
    "    * ship\n",
    "    * truck\n",
    "    \n",
    "The following images shows an example for all the classes and 10 random images:\n",
    "<img src=\"CIFAR-10-example.PNG\" width=\"450px\" alt=\"CIFAR-10 example\" title=\"CIFAR-10 example images\" />"
   ]
  },
  {
   "cell_type": "markdown",
   "metadata": {},
   "source": [
    "Torchvision datasets are PILImage images in range [0, 1]<br>\n",
    "=> transform them to normalized Tensors in range [-1, 1].\n",
    "\n"
   ]
  },
  {
   "cell_type": "code",
   "execution_count": 2,
   "metadata": {},
   "outputs": [
    {
     "name": "stdout",
     "output_type": "stream",
     "text": [
      "Files already downloaded and verified\n",
      "Files already downloaded and verified\n"
     ]
    }
   ],
   "source": [
    "# training data zero-padded by 4 pixels on each side, randomly cropped to a 32x32 image and eventually flipped horizontally\n",
    "# zero padding according to reference [24] - https://arxiv.org/pdf/1409.5185.pdf\n",
    "tf_train = transforms.Compose(\n",
    "    [transforms.RandomCrop(size=32, padding=4),\n",
    "     transforms.RandomHorizontalFlip(p=0.5),\n",
    "     transforms.ToTensor(),\n",
    "     transforms.Normalize(mean=[0.5, 0.5, 0.5], std=[0.5, 0.5, 0.5]) # image = (image - mean) / std\n",
    "     ])\n",
    "\n",
    "# test data is simply normalized\n",
    "tf_test = transforms.Compose(\n",
    "    [transforms.ToTensor(),\n",
    "     transforms.Normalize(mean=[0.5, 0.5, 0.5], std=[0.5, 0.5, 0.5]) # image = (image - mean) / std\n",
    "     ])\n",
    "\n",
    "class NeuralNet(Enum):\n",
    "    Net = 1\n",
    "    ResNet20 = 2\n",
    "    ResNet32 = 3\n",
    "    \n",
    "#select network to be used for training\n",
    "network = NeuralNet.ResNet32\n",
    "# Defines if residual network or plain convolutional network is used -- True = residual // False = plain \n",
    "use_shortcut = True\n",
    "\n",
    "# labels of the ten classes\n",
    "classes = ('plane', 'car', 'bird', 'cat', 'deer', 'dog', 'frog', 'horse', 'ship', 'truck')\n",
    "\n",
    "examplesCnt = 8 # how many sample images with ground truth/prediction shall be printed\n",
    "\n",
    "batchSize = 200 # utilize parallel processing power of GPU, further increasing this number doesn't seem to have any effect\n",
    "\n",
    "trainset = torchvision.datasets.CIFAR10(root='./data', train=True, download=True, transform=tf_train)\n",
    "trainloader = torch.utils.data.DataLoader(trainset, batch_size=batchSize, shuffle=True, num_workers=4)\n",
    "\n",
    "testset = torchvision.datasets.CIFAR10(root='./data', train=False, download=True, transform=tf_test)\n",
    "testloader = torch.utils.data.DataLoader(testset, batch_size=batchSize, shuffle=False, num_workers=4)"
   ]
  },
  {
   "cell_type": "code",
   "execution_count": 3,
   "metadata": {},
   "outputs": [
    {
     "data": {
      "image/png": "[encoded data removed]",
      "text/plain": [
       "<Figure size 432x288 with 1 Axes>"
      ]
     },
     "metadata": {
      "needs_background": "light"
     },
     "output_type": "display_data"
    },
    {
     "name": "stdout",
     "output_type": "stream",
     "text": [
      " ship, plane, truck,   car,   dog, plane,   cat,   dog\n"
     ]
    }
   ],
   "source": [
    "# function to show an image\n",
    "def imshow(img):\n",
    "    img = img / 2 + 0.5     # unnormalize\n",
    "    npimg = img.numpy()\n",
    "    plt.imshow(np.transpose(npimg, (1, 2, 0)))\n",
    "    plt.show()\n",
    "    \n",
    "\n",
    "# get some random training images\n",
    "images, labels = iter(trainloader).next()\n",
    "images = images[0:examplesCnt]\n",
    "labels = labels[0:examplesCnt]\n",
    "\n",
    "# show images\n",
    "imshow(torchvision.utils.make_grid(images))\n",
    "# print labels\n",
    "print(', '.join('%5s' % classes[labels[j]] for j in range(examplesCnt)))"
   ]
  },
  {
   "cell_type": "markdown",
   "metadata": {},
   "source": [
    "## Defining the neural networks:\n",
    "\n",
    "We decided to use 3 networks and compare the results each network gives.\n",
    "\n",
    "Note: We adapted the learning rate for all networks, the exact approach will be noted for the optimizer\n",
    "\n",
    "<b> Convulutional neural network </b>\n",
    "As a starter we used the Convolutional neural network from pytorch (https://pytorch.org/tutorials/beginner/blitz/cifar10_tutorial.html). We did not use an exact copy, but tried to optimize and increase the speed of the training process.\n",
    "In order to increase speed we raised the batch-size from originally 4 to 200. We stopped at 200 because there was no further improvment regarding the computation time.\n",
    "In order to adapt to the new batch-size we had to increase our learning rate(originally 0.001). Since the optimizer now has more images for computing the gradient. Hence it's a better approximation needs a bigger learning rate in order to efficiently improve the result. Without a larger learning rate we would need way more epoches to compensate the more precise gradient. \n",
    "\n",
    "Additional we decided to increase the input and output layers for the convolutions. Our thoughtprocess behind this, was to increase accuracy. Looking at more features from a picture should increase learning accuracy and lead to a better result. We tried with increasing inputplanes and stopped once we stopped noticing improvment in accuracy.\n",
    "Hence the following 3 computations changed:\n",
    "\n",
    "<b>Network definition:</b>  \n",
    "self.conv1 = nn.Conv2d(3, 6, 5) -> self.conv1 = nn.Conv2d(3, 48, 5)  \n",
    "self.conv2 = nn.Conv2d(6, 16, 5) -> self.conv2 = nn.Conv2d(48, 64, 5)\n",
    "\n",
    "<b>Forward-Step</b> (This change was necessary for the network to work, not for improvment. Otherwise the dimensions for the function would not match)  \n",
    "x = x.view(-1, 16 * 5 * 5) -> x = x.view(-1, 64 * 5 * 5)"
   ]
  },
  {
   "cell_type": "code",
   "execution_count": 4,
   "metadata": {},
   "outputs": [],
   "source": [
    "def conv1x1(in_planes, out_planes, stride=1):\n",
    "    \"\"\"1x1 convolution\"\"\"\n",
    "    return nn.Conv2d(\n",
    "        in_planes, \n",
    "        out_planes, \n",
    "        kernel_size=1, \n",
    "        stride=stride, \n",
    "        #padding=0\n",
    "        bias=False)"
   ]
  },
  {
   "cell_type": "code",
   "execution_count": 5,
   "metadata": {},
   "outputs": [],
   "source": [
    "def conv3x3(in_planes, out_planes, stride=1):\n",
    "    \"\"\"3x3 convolution with padding\"\"\"\n",
    "    return nn.Conv2d(in_planes, \n",
    "                     out_planes, \n",
    "                     kernel_size=3, \n",
    "                     stride=stride,\n",
    "                     padding=1, # with stride=1 this preserves dimension\n",
    "                     bias=False)"
   ]
  },
  {
   "cell_type": "code",
   "execution_count": 6,
   "metadata": {},
   "outputs": [],
   "source": [
    "class Net(nn.Module):\n",
    "    def __init__(self):\n",
    "        super(Net, self).__init__()\n",
    "        # Conv2d: input, output, kernel size, (stride=1, padding=0)\n",
    "        self.conv1 = nn.Conv2d(3, 48, 5) # 3 input image channel, 64 output channels, 5x5 square convolution\n",
    "        self.conv2 = nn.Conv2d(48, 64, 5)\n",
    "        self.pool = nn.MaxPool2d(2, 2)\n",
    "        self.fc1 = nn.Linear(64 * 5 * 5, 120)\n",
    "        self.fc2 = nn.Linear(120, 84)\n",
    "        self.fc3 = nn.Linear(84, 10) # 10 classses output\n",
    "\n",
    "    def forward(self, x):\n",
    "        x = self.pool(F.relu(self.conv1(x))) # 48 channels: conv results in 28x28 (image-kernel+1), pool => 14x14 image size\n",
    "        #print(x.shape)\n",
    "        x = self.pool(F.relu(self.conv2(x))) # 64 channels: conv results in 10x10 (image-kernel+1), pool => 5x5 image size\n",
    "        #print(x.shape)\n",
    "        x = x.view(-1, 64 * 5 * 5)\n",
    "        #print(x.shape)\n",
    "        x = F.relu(self.fc1(x))\n",
    "        x = F.relu(self.fc2(x))\n",
    "        x = self.fc3(x)\n",
    "        return x"
   ]
  },
  {
   "cell_type": "markdown",
   "metadata": {},
   "source": [
    "## Resnet Implementations\n",
    "\n",
    "We choose two Resnet Implementations, ResNet-34 and Resnet-50. Since both use different Blocks \n",
    "(Resnet-34 uses BasicBlocks, Resnet-50 usese Bottleneck Blocks). Theses networks are not too far apart, regarding layer \n",
    "size, but use different kind of Blocks, so we were interested to see how this difference would impact accuracy and runtime.\n",
    "\n",
    "### Resnet-34 BasisBlock\n",
    "\n",
    "For the BasicBlock Implementation we used the lecture as a template.  \n",
    "\n",
    "![BasicBlock](BasicBlock.png)\n",
    "\n",
    "### Resnet-34\n",
    "\n",
    "For the the Resnet-34 we tried to implement the network while using the paper as a model. We noticed, that the implementation from our paper is very similar to the one pytorch(same holds for Resnet-50). \n",
    "    * Each resnet useses either Basic- or BottleneckBlocks, but never both\n",
    "    * Both use the same data processing technique (# TODO state these techniques)\n",
    "    * Both use a Linear network in order to map the results to our ten classes\n",
    "    \n",
    "In the paper way more epoches are used than we could handle, since we are missing the computational power. Hence we tried to adjust the learning rate in order to achieve a fast but still accurate result. \n",
    "Tweaks we did #TODO\n",
    "\n",
    "### Resnet-50 BottleneckBlock\n",
    "\n",
    "For the BottleneckBlock we also used the template from the lecture.  \n",
    "\n",
    "![BotleneckBlock](BottleneckBlock.png)\n",
    "\n",
    "#### Resnet-50 \n",
    "\n",
    "Tweaks we did #TODO\n",
    "    "
   ]
  },
  {
   "cell_type": "code",
   "execution_count": 7,
   "metadata": {},
   "outputs": [],
   "source": [
    "class BasicBlock(nn.Module):\n",
    "    expansion = 1\n",
    "\n",
    "    def __init__(self, inplanes, planes, stride=1, downsample=None):\n",
    "        super(BasicBlock, self).__init__()\n",
    "        \n",
    "        \"\"\"\n",
    "        3x3 convolution inplanes->outplanes \n",
    "        (spatial size maintained), BN + ReLU\n",
    "        \"\"\" \n",
    "        self.conv1 = conv3x3(inplanes, planes, stride)\n",
    "        self.bn1 = nn.BatchNorm2d(planes)\n",
    "        self.relu = nn.ReLU(inplace=True)\n",
    "        \n",
    "        \"\"\"\n",
    "        3x3 convolution inplanes->outplanes \n",
    "        (spatial size maintained) + BN\n",
    "        \"\"\" \n",
    "        self.conv2 = conv3x3(planes, planes)\n",
    "        self.bn2 = nn.BatchNorm2d(planes)\n",
    "        \n",
    "        # needed to fix dimension incompatibility\n",
    "        self.stride = stride # not actually used in class itself\n",
    "        self.downsample = downsample\n",
    "\n",
    "    def forward(self, x):\n",
    "        residual = x # preserve input for identity functionality\n",
    "\n",
    "        # conv->bn->relu\n",
    "        out = self.conv1(x)\n",
    "        out = self.bn1(out)\n",
    "        out = self.relu(out)\n",
    "\n",
    "        # conv->bn\n",
    "        out = self.conv2(out)\n",
    "        out = self.bn2(out)\n",
    "        \n",
    "        \"\"\"\n",
    "        At that point, we check if a downsampling needs to be \n",
    "        applied on x, such that F(x)+x can be computed.\n",
    "        \"\"\"\n",
    "        if self.downsample is not None:\n",
    "            residual = self.downsample(x)\n",
    "\n",
    "        # shortcut connection: x + F(x)\n",
    "        if use_shortcut:\n",
    "            out += residual\n",
    "        \n",
    "        # building block ends with ReLU\n",
    "        out = self.relu(out)\n",
    "\n",
    "        return out\n"
   ]
  },
  {
   "cell_type": "code",
   "execution_count": 8,
   "metadata": {},
   "outputs": [
    {
     "name": "stdout",
     "output_type": "stream",
     "text": [
      "cuda\n"
     ]
    }
   ],
   "source": [
    "# use cuda device if available\n",
    "device = torch.device(\"cuda\" if torch.cuda.is_available() else \"cpu\")\n",
    "print(device)"
   ]
  },
  {
   "cell_type": "code",
   "execution_count": 9,
   "metadata": {},
   "outputs": [],
   "source": [
    "class ResNet20(nn.Module):\n",
    "    \n",
    "    def __init__(self, num_classes=10, zero_init_residual=False):\n",
    "        super(ResNet20, self).__init__()\n",
    "        \n",
    "        self.inplanes = 16\n",
    "        self.conv1 = conv3x3(3, self.inplanes, stride=1)\n",
    "        self.bn1 = nn.BatchNorm2d(16)\n",
    "        self.relu = nn.ReLU(inplace=True)\n",
    "        # Pooling is not needed, because we don't need to downsample, our next prefered inputsize is 32 which we aready have\n",
    "        \n",
    "        #First layerblock\n",
    "        planes = 16\n",
    "        layers = []\n",
    "        layers.append(BasicBlock(self.inplanes, planes))\n",
    "        self.inplanes = planes * BasicBlock.expansion\n",
    "        layers.append(BasicBlock(self.inplanes, planes))\n",
    "        layers.append(BasicBlock(self.inplanes, planes))\n",
    "        self.layer1 = nn.Sequential(*layers)\n",
    "        \n",
    "        #Second layerblock\n",
    "        planes = 32\n",
    "        layers = []\n",
    "        down_fn = nn.Sequential(conv1x1(self.inplanes, planes * BasicBlock.expansion, stride=2), nn.BatchNorm2d(planes * BasicBlock.expansion) )\n",
    "        layers.append(BasicBlock(self.inplanes, planes, 2, down_fn))\n",
    "        self.inplanes = planes * BasicBlock.expansion\n",
    "        layers.append(BasicBlock(self.inplanes, planes))\n",
    "        layers.append(BasicBlock(self.inplanes, planes))\n",
    "        self.layer2 = nn.Sequential(*layers)\n",
    "        \n",
    "        # Third layerblock\n",
    "        planes = 64\n",
    "        layers = []\n",
    "        down_fn = nn.Sequential(conv1x1(self.inplanes, planes * BasicBlock.expansion, stride=2), nn.BatchNorm2d(planes * BasicBlock.expansion) )\n",
    "        layers.append(BasicBlock(self.inplanes, planes, 2, down_fn))\n",
    "        self.inplanes = planes * BasicBlock.expansion\n",
    "        layers.append(BasicBlock(self.inplanes, planes))\n",
    "        layers.append(BasicBlock(self.inplanes, planes))\n",
    "        self.layer3 = nn.Sequential(*layers)\n",
    "        \n",
    "        \n",
    "        self.avgpool = nn.AdaptiveAvgPool2d((1, 1))\n",
    "        self.fc = nn.Linear(64 * BasicBlock.expansion, num_classes)\n",
    "        \n",
    "        for m in self.modules():\n",
    "            if isinstance(m, nn.Conv2d):\n",
    "                nn.init.kaiming_normal_(m.weight, mode='fan_out', nonlinearity='relu')\n",
    "            elif isinstance(m, nn.BatchNorm2d):\n",
    "                nn.init.constant_(m.weight, 1)\n",
    "                nn.init.constant_(m.bias, 0)\n",
    "            \n",
    "    def forward(self, x):\n",
    "        x = self.conv1(x)\n",
    "        x = self.bn1(x)\n",
    "        x = self.relu(x)\n",
    "\n",
    "        x = self.layer1(x)\n",
    "        x = self.layer2(x)\n",
    "        x = self.layer3(x)\n",
    "\n",
    "        x = self.avgpool(x)\n",
    "        x = x.view(x.size(0), -1)\n",
    "        x = self.fc(x)\n",
    "\n",
    "        return x"
   ]
  },
  {
   "cell_type": "code",
   "execution_count": 10,
   "metadata": {},
   "outputs": [],
   "source": [
    "class ResNet32(nn.Module):\n",
    "    \n",
    "    def __init__(self, num_classes=10, zero_init_residual=False):\n",
    "        super(ResNet32, self).__init__()\n",
    "        \n",
    "        self.inplanes = 16\n",
    "        self.conv1 = conv3x3(3, self.inplanes, stride=1)\n",
    "        self.bn1 = nn.BatchNorm2d(16)\n",
    "        self.relu = nn.ReLU(inplace=True)\n",
    "        # Pooling is not needed, because we don't need to downsample, our next prefered inputsize is 32 which we aready have\n",
    "        \n",
    "        #First layerblock\n",
    "        planes = 16\n",
    "        layers = []\n",
    "        layers.append(BasicBlock(self.inplanes, planes))\n",
    "        self.inplanes = planes * BasicBlock.expansion\n",
    "        layers.append(BasicBlock(self.inplanes, planes))\n",
    "        layers.append(BasicBlock(self.inplanes, planes))\n",
    "        layers.append(BasicBlock(self.inplanes, planes))\n",
    "        layers.append(BasicBlock(self.inplanes, planes))\n",
    "        self.layer1 = nn.Sequential(*layers)\n",
    "        \n",
    "        #Second layerblock\n",
    "        planes = 32\n",
    "        layers = []\n",
    "        down_fn = nn.Sequential(conv1x1(self.inplanes, planes * BasicBlock.expansion, stride=2), nn.BatchNorm2d(planes * BasicBlock.expansion) )\n",
    "        layers.append(BasicBlock(self.inplanes, planes, 2, down_fn))\n",
    "        self.inplanes = planes * BasicBlock.expansion\n",
    "        layers.append(BasicBlock(self.inplanes, planes))\n",
    "        layers.append(BasicBlock(self.inplanes, planes))\n",
    "        layers.append(BasicBlock(self.inplanes, planes))\n",
    "        layers.append(BasicBlock(self.inplanes, planes))\n",
    "        self.layer2 = nn.Sequential(*layers)\n",
    "        \n",
    "        # Third layerblock\n",
    "        planes = 64\n",
    "        layers = []\n",
    "        down_fn = nn.Sequential(conv1x1(self.inplanes, planes * BasicBlock.expansion, stride=2), nn.BatchNorm2d(planes * BasicBlock.expansion) )\n",
    "        layers.append(BasicBlock(self.inplanes, planes, 2, down_fn))\n",
    "        self.inplanes = planes * BasicBlock.expansion\n",
    "        layers.append(BasicBlock(self.inplanes, planes))\n",
    "        layers.append(BasicBlock(self.inplanes, planes))\n",
    "        layers.append(BasicBlock(self.inplanes, planes))\n",
    "        layers.append(BasicBlock(self.inplanes, planes))\n",
    "        self.layer3 = nn.Sequential(*layers)\n",
    "        \n",
    "        \n",
    "        self.avgpool = nn.AdaptiveAvgPool2d((1, 1))\n",
    "        self.fc = nn.Linear(64 * BasicBlock.expansion, num_classes)\n",
    "\n",
    "        for m in self.modules():\n",
    "            if isinstance(m, nn.Conv2d):\n",
    "                nn.init.kaiming_normal_(m.weight, mode='fan_out', nonlinearity='relu')\n",
    "            elif isinstance(m, nn.BatchNorm2d):\n",
    "                n.init.constant_(m.weight, 1)\n",
    "                nn.init.constant_(m.bias, 0)\n",
    "            \n",
    "    def forward(self, x):\n",
    "        x = self.conv1(x)\n",
    "        x = self.bn1(x)\n",
    "        x = self.relu(x)\n",
    "\n",
    "        x = self.layer1(x)\n",
    "        x = self.layer2(x)\n",
    "        x = self.layer3(x)\n",
    "\n",
    "        x = self.avgpool(x)\n",
    "        x = x.view(x.size(0), -1)\n",
    "        x = self.fc(x)\n",
    "\n",
    "        return x"
   ]
  },
  {
   "cell_type": "code",
   "execution_count": 11,
   "metadata": {},
   "outputs": [
    {
     "name": "stdout",
     "output_type": "stream",
     "text": [
      "ResNet32 has 466906 parameters.\n"
     ]
    }
   ],
   "source": [
    "# determine which network should be used:\n",
    "# every epoch has 250 iterations with each 200 images\n",
    "if network == NeuralNet.Net:\n",
    "    net = Net()\n",
    "    epochCnt = 40\n",
    "elif network == NeuralNet.ResNet20:\n",
    "    net = ResNet20()\n",
    "    epochCnt = 10\n",
    "elif network == NeuralNet.ResNet32:\n",
    "    net = ResNet32()\n",
    "    epochCnt = 10\n",
    "else:\n",
    "    sys.exit(\"invalid network type!\")\n",
    "\n",
    "net = net.to(device)\n",
    "\n",
    "\n",
    "# print number of paramters in currently selected network\n",
    "netParamCnt = 0\n",
    "for p in net.parameters(): netParamCnt+=p.numel()\n",
    "print(\"%s has %d parameters.\" % (network.name, netParamCnt))"
   ]
  },
  {
   "cell_type": "markdown",
   "metadata": {},
   "source": [
    "## Defining a Loss function and optimizer:\n",
    "\n",
    "Additional to the optimizer we used a scheduler to adapt our learingn rate. In the paper the same technique is used in order to achieve better results. As a consequence we needed to increase our epoches, so the scheduler could work efficiently (decrease learning rate at least two times). This also lead to an increased amount of time our network needed for the learning proccess.\n",
    "\n",
    "For the loss we used a Classification Cross-Entropy loss and SGD with momentum. This is the same in pytorch as well as our paper.\n"
   ]
  },
  {
   "cell_type": "code",
   "execution_count": 12,
   "metadata": {},
   "outputs": [],
   "source": [
    "criterion = nn.CrossEntropyLoss()\n",
    "optimizer = optim.SGD(net.parameters(), lr=0.1, momentum=0.9, weight_decay=0.0001)\n",
    "scheduler = optim.lr_scheduler.MultiStepLR(optimizer, milestones=[32000, 48000], gamma=0.1)"
   ]
  },
  {
   "cell_type": "markdown",
   "metadata": {},
   "source": [
    "## Training the network"
   ]
  },
  {
   "cell_type": "markdown",
   "metadata": {},
   "source": [
    "### Training routine"
   ]
  },
  {
   "cell_type": "code",
   "execution_count": 13,
   "metadata": {},
   "outputs": [],
   "source": [
    "def train(model, device, train_loader, optimizer, epoch):\n",
    "    model.train() # set model to training mode\n",
    "    train_loss = 0\n",
    "    \n",
    "    # iterate over all batches of (img, label) from trainloader\n",
    "    # images are augmented randomly by specified transformers\n",
    "    for batch_idx, (data, target) in enumerate(trainloader, 1): # 50.000 test images => 250 iterations with each 200 images\n",
    "        scheduler.step()\n",
    "        \n",
    "        # use CUDA if available\n",
    "        data, target = data.to(device), target.to(device)\n",
    "        \n",
    "        # reset parameter gradients\n",
    "        optimizer.zero_grad()\n",
    "        \n",
    "        # forward pass \n",
    "        output = net(data) # 10 class output\n",
    "        \n",
    "        # compute loss\n",
    "        loss = criterion(output, target)\n",
    "        \n",
    "        # compute gradients\n",
    "        loss.backward()\n",
    "        \n",
    "        # update paramters\n",
    "        optimizer.step()\n",
    "\n",
    "        # some logging\n",
    "        train_loss += loss.item()\n",
    "        if batch_idx % 25 == 0:    # print every tenth iteration\n",
    "            print('Train Epoch: {} [{}/{} ({:.0f}%)]\\tLoss: {:.6f}'.format(\n",
    "                epoch,\n",
    "                batch_idx * len(data),    # number of images processed so far\n",
    "                len(trainloader.dataset), # total number of images in trainingset\n",
    "                100. * batch_idx / len(trainloader),\n",
    "                loss.item())\n",
    "            )\n",
    "\n",
    "    train_loss /= len(trainloader.dataset)\n",
    "    return train_loss"
   ]
  },
  {
   "cell_type": "markdown",
   "metadata": {},
   "source": [
    "### Testing routine"
   ]
  },
  {
   "cell_type": "code",
   "execution_count": 14,
   "metadata": {},
   "outputs": [],
   "source": [
    "def test(model, device, test_loader):\n",
    "    model.eval() # set model to evaluation mode\n",
    "    test_loss = 0\n",
    "    correct = 0\n",
    "    \n",
    "    # temporarily set all the requires_grad flag to False\n",
    "    with torch.no_grad():\n",
    "        \n",
    "        # iterate over testing batches  (img, label)\n",
    "        for data, target in testloader:\n",
    "            \n",
    "            # use CUDA if available\n",
    "            data, target = data.to(device), target.to(device)\n",
    "            \n",
    "            # forward pass \n",
    "            output = net(data)\n",
    "            \n",
    "            # track cross-entropy-loss on testing data\n",
    "            test_loss += criterion(output, target).item() \n",
    "            \n",
    "            # get the correct class prediction as the max. value of the last fully-connected layer\n",
    "            # Remember, the cross-entropy-loss operates on top of that layer! In that sense, the \n",
    "            # output of the last layer can be interpreted as the log-probability of each class.\n",
    "            pred = output.max(1, keepdim=True)[1] \n",
    "            \n",
    "            # Track how many labels were correctly predicted\n",
    "            correct += pred.eq(target.view_as(pred)).sum().item()\n",
    "\n",
    "    # Overall testing loss\n",
    "    test_loss /= len(testloader.dataset)\n",
    "    print('\\nTest set: Average loss: {:.4f}, Accuracy: {}/{} ({:.0f}%)\\n'.format(\n",
    "        test_loss,\n",
    "        correct,\n",
    "        len(testloader.dataset),\n",
    "        100. * correct / len(testloader.dataset))\n",
    "    )\n",
    "\n",
    "    return test_loss"
   ]
  },
  {
   "cell_type": "code",
   "execution_count": 15,
   "metadata": {},
   "outputs": [
    {
     "name": "stdout",
     "output_type": "stream",
     "text": [
      "Train Epoch: 1 [5000/50000 (10%)]\tLoss: 1.923660\n",
      "Train Epoch: 1 [10000/50000 (20%)]\tLoss: 1.873125\n",
      "Train Epoch: 1 [15000/50000 (30%)]\tLoss: 1.794244\n",
      "Train Epoch: 1 [20000/50000 (40%)]\tLoss: 1.720312\n",
      "Train Epoch: 1 [25000/50000 (50%)]\tLoss: 1.595052\n",
      "Train Epoch: 1 [30000/50000 (60%)]\tLoss: 1.573848\n",
      "Train Epoch: 1 [35000/50000 (70%)]\tLoss: 1.549361\n",
      "Train Epoch: 1 [40000/50000 (80%)]\tLoss: 1.446610\n",
      "Train Epoch: 1 [45000/50000 (90%)]\tLoss: 1.439328\n",
      "Train Epoch: 1 [50000/50000 (100%)]\tLoss: 1.446884\n",
      "\n",
      "Test set: Average loss: 0.0079, Accuracy: 4453/10000 (45%)\n",
      "\n",
      "Train Epoch: 2 [5000/50000 (10%)]\tLoss: 1.352767\n",
      "Train Epoch: 2 [10000/50000 (20%)]\tLoss: 1.322480\n",
      "Train Epoch: 2 [15000/50000 (30%)]\tLoss: 1.287905\n",
      "Train Epoch: 2 [20000/50000 (40%)]\tLoss: 1.312823\n",
      "Train Epoch: 2 [25000/50000 (50%)]\tLoss: 1.109318\n",
      "Train Epoch: 2 [30000/50000 (60%)]\tLoss: 1.232512\n",
      "Train Epoch: 2 [35000/50000 (70%)]\tLoss: 1.149206\n",
      "Train Epoch: 2 [40000/50000 (80%)]\tLoss: 1.119927\n",
      "Train Epoch: 2 [45000/50000 (90%)]\tLoss: 1.093690\n",
      "Train Epoch: 2 [50000/50000 (100%)]\tLoss: 1.033676\n",
      "\n",
      "Test set: Average loss: 0.0052, Accuracy: 6230/10000 (62%)\n",
      "\n",
      "Train Epoch: 3 [5000/50000 (10%)]\tLoss: 1.202377\n",
      "Train Epoch: 3 [10000/50000 (20%)]\tLoss: 1.012025\n",
      "Train Epoch: 3 [15000/50000 (30%)]\tLoss: 1.003559\n",
      "Train Epoch: 3 [20000/50000 (40%)]\tLoss: 0.916671\n",
      "Train Epoch: 3 [25000/50000 (50%)]\tLoss: 1.103854\n",
      "Train Epoch: 3 [30000/50000 (60%)]\tLoss: 0.992238\n",
      "Train Epoch: 3 [35000/50000 (70%)]\tLoss: 0.917371\n",
      "Train Epoch: 3 [40000/50000 (80%)]\tLoss: 0.904828\n",
      "Train Epoch: 3 [45000/50000 (90%)]\tLoss: 0.781318\n",
      "Train Epoch: 3 [50000/50000 (100%)]\tLoss: 0.849132\n",
      "\n",
      "Test set: Average loss: 0.0065, Accuracy: 6041/10000 (60%)\n",
      "\n",
      "Train Epoch: 4 [5000/50000 (10%)]\tLoss: 0.830432\n",
      "Train Epoch: 4 [10000/50000 (20%)]\tLoss: 0.755524\n",
      "Train Epoch: 4 [15000/50000 (30%)]\tLoss: 0.773279\n",
      "Train Epoch: 4 [20000/50000 (40%)]\tLoss: 0.880211\n",
      "Train Epoch: 4 [25000/50000 (50%)]\tLoss: 0.835099\n",
      "Train Epoch: 4 [30000/50000 (60%)]\tLoss: 0.665589\n",
      "Train Epoch: 4 [35000/50000 (70%)]\tLoss: 0.795644\n",
      "Train Epoch: 4 [40000/50000 (80%)]\tLoss: 0.880516\n",
      "Train Epoch: 4 [45000/50000 (90%)]\tLoss: 0.832966\n",
      "Train Epoch: 4 [50000/50000 (100%)]\tLoss: 0.752080\n",
      "\n",
      "Test set: Average loss: 0.0044, Accuracy: 7077/10000 (71%)\n",
      "\n",
      "Train Epoch: 5 [5000/50000 (10%)]\tLoss: 0.650496\n",
      "Train Epoch: 5 [10000/50000 (20%)]\tLoss: 0.829692\n",
      "Train Epoch: 5 [15000/50000 (30%)]\tLoss: 0.768562\n",
      "Train Epoch: 5 [20000/50000 (40%)]\tLoss: 0.773762\n",
      "Train Epoch: 5 [25000/50000 (50%)]\tLoss: 0.772720\n",
      "Train Epoch: 5 [30000/50000 (60%)]\tLoss: 0.698843\n",
      "Train Epoch: 5 [35000/50000 (70%)]\tLoss: 0.738876\n",
      "Train Epoch: 5 [40000/50000 (80%)]\tLoss: 0.604782\n",
      "Train Epoch: 5 [45000/50000 (90%)]\tLoss: 0.599590\n",
      "Train Epoch: 5 [50000/50000 (100%)]\tLoss: 0.797425\n",
      "\n",
      "Test set: Average loss: 0.0044, Accuracy: 7182/10000 (72%)\n",
      "\n",
      "Train Epoch: 6 [5000/50000 (10%)]\tLoss: 0.579021\n",
      "Train Epoch: 6 [10000/50000 (20%)]\tLoss: 0.723964\n",
      "Train Epoch: 6 [15000/50000 (30%)]\tLoss: 0.559556\n",
      "Train Epoch: 6 [20000/50000 (40%)]\tLoss: 0.620610\n",
      "Train Epoch: 6 [25000/50000 (50%)]\tLoss: 0.622702\n",
      "Train Epoch: 6 [30000/50000 (60%)]\tLoss: 0.580035\n",
      "Train Epoch: 6 [35000/50000 (70%)]\tLoss: 0.579809\n",
      "Train Epoch: 6 [40000/50000 (80%)]\tLoss: 0.601172\n",
      "Train Epoch: 6 [45000/50000 (90%)]\tLoss: 0.594769\n",
      "Train Epoch: 6 [50000/50000 (100%)]\tLoss: 0.600794\n",
      "\n",
      "Test set: Average loss: 0.0038, Accuracy: 7466/10000 (75%)\n",
      "\n",
      "Train Epoch: 7 [5000/50000 (10%)]\tLoss: 0.573459\n",
      "Train Epoch: 7 [10000/50000 (20%)]\tLoss: 0.587744\n",
      "Train Epoch: 7 [15000/50000 (30%)]\tLoss: 0.446208\n",
      "Train Epoch: 7 [20000/50000 (40%)]\tLoss: 0.704806\n",
      "Train Epoch: 7 [25000/50000 (50%)]\tLoss: 0.478112\n",
      "Train Epoch: 7 [30000/50000 (60%)]\tLoss: 0.548926\n",
      "Train Epoch: 7 [35000/50000 (70%)]\tLoss: 0.507681\n",
      "Train Epoch: 7 [40000/50000 (80%)]\tLoss: 0.599210\n",
      "Train Epoch: 7 [45000/50000 (90%)]\tLoss: 0.606441\n",
      "Train Epoch: 7 [50000/50000 (100%)]\tLoss: 0.424202\n",
      "\n",
      "Test set: Average loss: 0.0040, Accuracy: 7284/10000 (73%)\n",
      "\n",
      "Train Epoch: 8 [5000/50000 (10%)]\tLoss: 0.437981\n",
      "Train Epoch: 8 [10000/50000 (20%)]\tLoss: 0.461312\n",
      "Train Epoch: 8 [15000/50000 (30%)]\tLoss: 0.390526\n",
      "Train Epoch: 8 [20000/50000 (40%)]\tLoss: 0.447252\n",
      "Train Epoch: 8 [25000/50000 (50%)]\tLoss: 0.644247\n",
      "Train Epoch: 8 [30000/50000 (60%)]\tLoss: 0.786903\n",
      "Train Epoch: 8 [35000/50000 (70%)]\tLoss: 0.426778\n",
      "Train Epoch: 8 [40000/50000 (80%)]\tLoss: 0.537223\n",
      "Train Epoch: 8 [45000/50000 (90%)]\tLoss: 0.474745\n",
      "Train Epoch: 8 [50000/50000 (100%)]\tLoss: 0.455628\n",
      "\n",
      "Test set: Average loss: 0.0040, Accuracy: 7393/10000 (74%)\n",
      "\n",
      "Train Epoch: 9 [5000/50000 (10%)]\tLoss: 0.414453\n",
      "Train Epoch: 9 [10000/50000 (20%)]\tLoss: 0.437315\n",
      "Train Epoch: 9 [15000/50000 (30%)]\tLoss: 0.479118\n",
      "Train Epoch: 9 [20000/50000 (40%)]\tLoss: 0.519212\n",
      "Train Epoch: 9 [25000/50000 (50%)]\tLoss: 0.484377\n",
      "Train Epoch: 9 [30000/50000 (60%)]\tLoss: 0.517614\n",
      "Train Epoch: 9 [35000/50000 (70%)]\tLoss: 0.434316\n",
      "Train Epoch: 9 [40000/50000 (80%)]\tLoss: 0.519681\n",
      "Train Epoch: 9 [45000/50000 (90%)]\tLoss: 0.501458\n",
      "Train Epoch: 9 [50000/50000 (100%)]\tLoss: 0.507936\n",
      "\n",
      "Test set: Average loss: 0.0031, Accuracy: 7994/10000 (80%)\n",
      "\n",
      "Train Epoch: 10 [5000/50000 (10%)]\tLoss: 0.504366\n",
      "Train Epoch: 10 [10000/50000 (20%)]\tLoss: 0.515159\n",
      "Train Epoch: 10 [15000/50000 (30%)]\tLoss: 0.560827\n",
      "Train Epoch: 10 [20000/50000 (40%)]\tLoss: 0.539787\n",
      "Train Epoch: 10 [25000/50000 (50%)]\tLoss: 0.419177\n",
      "Train Epoch: 10 [30000/50000 (60%)]\tLoss: 0.487275\n",
      "Train Epoch: 10 [35000/50000 (70%)]\tLoss: 0.373760\n",
      "Train Epoch: 10 [40000/50000 (80%)]\tLoss: 0.542605\n",
      "Train Epoch: 10 [45000/50000 (90%)]\tLoss: 0.482557\n",
      "Train Epoch: 10 [50000/50000 (100%)]\tLoss: 0.371012\n",
      "\n",
      "Test set: Average loss: 0.0030, Accuracy: 7991/10000 (80%)\n",
      "\n"
     ]
    }
   ],
   "source": [
    "# Now, iterate over a couple of epochs ...\n",
    "train_losses = []\n",
    "test_losses  = []\n",
    "\n",
    "for epoch in range(1, epochCnt+1):\n",
    "    train_loss = train(net, device, trainloader, optimizer, epoch)\n",
    "    test_loss  = test(net, device, testloader)\n",
    "\n",
    "    train_losses.append(train_loss)\n",
    "    test_losses.append(test_loss)"
   ]
  },
  {
   "cell_type": "code",
   "execution_count": 16,
   "metadata": {},
   "outputs": [
    {
     "data": {
      "image/png": "[encoded data removed]",
      "text/plain": [
       "<Figure size 720x216 with 1 Axes>"
      ]
     },
     "metadata": {
      "needs_background": "light"
     },
     "output_type": "display_data"
    }
   ],
   "source": [
    "%matplotlib inline\n",
    "import matplotlib.pyplot as plt\n",
    "\n",
    "plt.figure(figsize=(10,3))\n",
    "plt.plot(train_losses, lw=3)\n",
    "plt.plot(test_losses, lw=3)\n",
    "plt.xlabel('Epoch')\n",
    "plt.ylabel('Loss')\n",
    "plt.title('CIFAR10 training progress')\n",
    "plt.legend(['Train','Test'])\n",
    "plt.grid()"
   ]
  },
  {
   "cell_type": "markdown",
   "metadata": {},
   "source": [
    "## Testing the network\n",
    "\n",
    "Original we used two epoches for the non-residual network. While using the Res-Net we noticed that 2 epoches were not enough especially when using a scheduler for the learning rate. We decided to use 5 epoch in order to get at least two learning-rate reductions. This should be enough since we did not notice any additional change to our loss. Especially for lower learning rates.\n",
    "\n",
    "In order to check the results our networks have achieved we decided to use the template from pytorch and the lecture, splitting in in 3 parts:\n",
    "    * Check 8 sample images and their computed labels\n",
    "    * Total Accuracy\n",
    "    * Class Accuracy\n",
    "\n",
    "<b>Sample Images with computed labels:</b>"
   ]
  },
  {
   "cell_type": "code",
   "execution_count": 17,
   "metadata": {},
   "outputs": [
    {
     "data": {
      "image/png": "[encoded data removed]",
      "text/plain": [
       "<Figure size 432x288 with 1 Axes>"
      ]
     },
     "metadata": {
      "needs_background": "light"
     },
     "output_type": "display_data"
    },
    {
     "name": "stdout",
     "output_type": "stream",
     "text": [
      "GroundTruth:    cat,  ship,  ship, plane,  frog,  frog,   car,  frog\n"
     ]
    }
   ],
   "source": [
    "dataiter = iter(testloader)\n",
    "images, labels = dataiter.next()\n",
    "\n",
    "images = images[0:examplesCnt]\n",
    "labels = labels[0:examplesCnt]\n",
    "\n",
    "# print images\n",
    "imshow(torchvision.utils.make_grid(images))\n",
    "print('GroundTruth: ', ', '.join('%5s' % classes[labels[j]] for j in range(examplesCnt)))"
   ]
  },
  {
   "cell_type": "markdown",
   "metadata": {},
   "source": [
    "<b>Predicted Classes from our network:</b>"
   ]
  },
  {
   "cell_type": "code",
   "execution_count": 18,
   "metadata": {},
   "outputs": [
    {
     "name": "stdout",
     "output_type": "stream",
     "text": [
      "Predicted:    cat,  ship,  ship,  ship,  frog,  frog, truck,  frog\n"
     ]
    }
   ],
   "source": [
    "# move input to cuda device if available\n",
    "images = images.to(device)\n",
    "outputs = net(images)\n",
    "_, predicted = torch.max(outputs, 1)\n",
    "\n",
    "print('Predicted: ', ', '.join('%5s' % classes[predicted[j]] for j in range(examplesCnt)))"
   ]
  },
  {
   "cell_type": "markdown",
   "metadata": {},
   "source": [
    "<b>Total Accuracy:</b>"
   ]
  },
  {
   "cell_type": "code",
   "execution_count": 19,
   "metadata": {},
   "outputs": [
    {
     "name": "stdout",
     "output_type": "stream",
     "text": [
      "Accuracy of the network on the 10000 test images: 79 %\n"
     ]
    }
   ],
   "source": [
    "correct = 0\n",
    "total = 0\n",
    "with torch.no_grad():\n",
    "    for data, target in testloader:\n",
    "        data, target = data.to(device), target.to(device)\n",
    "        outputs = net(data)\n",
    "        _, predicted = torch.max(outputs.data, 1)\n",
    "        total += target.size(0)\n",
    "        correct += (predicted == target).sum().item()\n",
    "\n",
    "print('Accuracy of the network on the 10000 test images: %2d %%' % (100 * correct / total))"
   ]
  },
  {
   "cell_type": "markdown",
   "metadata": {},
   "source": [
    "<b>Class Accuracy:</b>"
   ]
  },
  {
   "cell_type": "code",
   "execution_count": 20,
   "metadata": {
    "scrolled": true
   },
   "outputs": [
    {
     "name": "stdout",
     "output_type": "stream",
     "text": [
      "Accuracy of plane: 81 %\n",
      "Accuracy of   car: 86 %\n",
      "Accuracy of  bird: 80 %\n",
      "Accuracy of   cat: 44 %\n",
      "Accuracy of  deer: 77 %\n",
      "Accuracy of   dog: 73 %\n",
      "Accuracy of  frog: 82 %\n",
      "Accuracy of horse: 84 %\n",
      "Accuracy of  ship: 91 %\n",
      "Accuracy of truck: 95 %\n"
     ]
    }
   ],
   "source": [
    "class_correct = list(0. for i in range(10))\n",
    "class_total = list(0. for i in range(10))\n",
    "with torch.no_grad():\n",
    "    for data, target in testloader:\n",
    "        data, target = data.to(device), target.to(device)\n",
    "        outputs = net(data)\n",
    "        _, predicted = torch.max(outputs, 1)\n",
    "        c = (predicted == target).squeeze()\n",
    "        for i in range(batchSize):\n",
    "            label = target[i]\n",
    "            class_correct[label] += c[i].item()\n",
    "            class_total[label] += 1\n",
    "\n",
    "\n",
    "for i in range(10):\n",
    "    print('Accuracy of %5s: %2d %%' % (classes[i], 100 * class_correct[i] / class_total[i]))"
   ]
  }
 ],
 "metadata": {
  "kernelspec": {
   "display_name": "Python 3",
   "language": "python",
   "name": "python3"
  },
  "language_info": {
   "codemirror_mode": {
    "name": "ipython",
    "version": 3
   },
   "file_extension": ".py",
   "mimetype": "text/x-python",
   "name": "python",
   "nbconvert_exporter": "python",
   "pygments_lexer": "ipython3",
   "version": "3.7.1"
  }
 },
 "nbformat": 4,
 "nbformat_minor": 1
}
